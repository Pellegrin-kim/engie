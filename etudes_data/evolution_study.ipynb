{
 "cells": [
  {
   "cell_type": "code",
   "execution_count": 1,
   "metadata": {
    "collapsed": true
   },
   "outputs": [],
   "source": [
    "import pandas as pd"
   ]
  },
  {
   "cell_type": "code",
   "execution_count": 15,
   "metadata": {
    "collapsed": true
   },
   "outputs": [],
   "source": [
    "path_eolien = '/home/largo/Downloads/donnees_eoliennes.csv'"
   ]
  },
  {
   "cell_type": "code",
   "execution_count": 16,
   "metadata": {
    "collapsed": false
   },
   "outputs": [],
   "source": [
    "raw_eolienne = pd.read_csv(path_eolien, error_bad_lines=False)"
   ]
  },
  {
   "cell_type": "code",
   "execution_count": 17,
   "metadata": {
    "collapsed": false
   },
   "outputs": [
    {
     "data": {
      "text/html": [
       "<div>\n",
       "<table border=\"1\" class=\"dataframe\">\n",
       "  <thead>\n",
       "    <tr style=\"text-align: right;\">\n",
       "      <th></th>\n",
       "      <th>date_heure</th>\n",
       "      <th>id_eolienne</th>\n",
       "      <th>parc</th>\n",
       "      <th>vitesse vent (m/s)</th>\n",
       "      <th>direction vent</th>\n",
       "      <th>puissance active (kW)</th>\n",
       "      <th>angle nacelle</th>\n",
       "      <th>vitesse de rotation du rotor (rpm)</th>\n",
       "      <th>temperature exterieure (C)</th>\n",
       "      <th>temperature interieure (C)</th>\n",
       "      <th>region</th>\n",
       "    </tr>\n",
       "  </thead>\n",
       "  <tbody>\n",
       "    <tr>\n",
       "      <th>0</th>\n",
       "      <td>2015-06-01 00:00:00</td>\n",
       "      <td>Parc1-E01</td>\n",
       "      <td>Parc1</td>\n",
       "      <td>9.08</td>\n",
       "      <td>188.66</td>\n",
       "      <td>1675.45</td>\n",
       "      <td>186.54</td>\n",
       "      <td>13.55</td>\n",
       "      <td>11.21</td>\n",
       "      <td>64.87</td>\n",
       "      <td>Est</td>\n",
       "    </tr>\n",
       "    <tr>\n",
       "      <th>1</th>\n",
       "      <td>2015-06-01 00:10:00</td>\n",
       "      <td>Parc1-E01</td>\n",
       "      <td>Parc1</td>\n",
       "      <td>8.61</td>\n",
       "      <td>186.47</td>\n",
       "      <td>1421.92</td>\n",
       "      <td>185.90</td>\n",
       "      <td>12.60</td>\n",
       "      <td>11.18</td>\n",
       "      <td>62.96</td>\n",
       "      <td>Est</td>\n",
       "    </tr>\n",
       "    <tr>\n",
       "      <th>2</th>\n",
       "      <td>2015-06-01 00:20:00</td>\n",
       "      <td>Parc1-E01</td>\n",
       "      <td>Parc1</td>\n",
       "      <td>8.38</td>\n",
       "      <td>184.37</td>\n",
       "      <td>1338.56</td>\n",
       "      <td>183.51</td>\n",
       "      <td>11.20</td>\n",
       "      <td>11.05</td>\n",
       "      <td>63.93</td>\n",
       "      <td>Est</td>\n",
       "    </tr>\n",
       "    <tr>\n",
       "      <th>3</th>\n",
       "      <td>2015-06-01 00:30:00</td>\n",
       "      <td>Parc1-E01</td>\n",
       "      <td>Parc1</td>\n",
       "      <td>10.27</td>\n",
       "      <td>235.62</td>\n",
       "      <td>2111.74</td>\n",
       "      <td>224.34</td>\n",
       "      <td>11.04</td>\n",
       "      <td>10.92</td>\n",
       "      <td>65.58</td>\n",
       "      <td>Est</td>\n",
       "    </tr>\n",
       "    <tr>\n",
       "      <th>4</th>\n",
       "      <td>2015-06-01 00:40:00</td>\n",
       "      <td>Parc1-E01</td>\n",
       "      <td>Parc1</td>\n",
       "      <td>9.13</td>\n",
       "      <td>263.42</td>\n",
       "      <td>1551.53</td>\n",
       "      <td>259.00</td>\n",
       "      <td>10.67</td>\n",
       "      <td>10.90</td>\n",
       "      <td>66.24</td>\n",
       "      <td>Est</td>\n",
       "    </tr>\n",
       "  </tbody>\n",
       "</table>\n",
       "</div>"
      ],
      "text/plain": [
       "            date_heure id_eolienne   parc  vitesse vent (m/s)  direction vent  \\\n",
       "0  2015-06-01 00:00:00   Parc1-E01  Parc1                9.08          188.66   \n",
       "1  2015-06-01 00:10:00   Parc1-E01  Parc1                8.61          186.47   \n",
       "2  2015-06-01 00:20:00   Parc1-E01  Parc1                8.38          184.37   \n",
       "3  2015-06-01 00:30:00   Parc1-E01  Parc1               10.27          235.62   \n",
       "4  2015-06-01 00:40:00   Parc1-E01  Parc1                9.13          263.42   \n",
       "\n",
       "   puissance active (kW)  angle nacelle  vitesse de rotation du rotor (rpm)  \\\n",
       "0                1675.45         186.54                               13.55   \n",
       "1                1421.92         185.90                               12.60   \n",
       "2                1338.56         183.51                               11.20   \n",
       "3                2111.74         224.34                               11.04   \n",
       "4                1551.53         259.00                               10.67   \n",
       "\n",
       "   temperature exterieure (C)  temperature interieure (C) region  \n",
       "0                       11.21                       64.87    Est  \n",
       "1                       11.18                       62.96    Est  \n",
       "2                       11.05                       63.93    Est  \n",
       "3                       10.92                       65.58    Est  \n",
       "4                       10.90                       66.24    Est  "
      ]
     },
     "execution_count": 17,
     "metadata": {},
     "output_type": "execute_result"
    }
   ],
   "source": [
    "raw_eolienne.head()"
   ]
  },
  {
   "cell_type": "code",
   "execution_count": 18,
   "metadata": {
    "collapsed": true
   },
   "outputs": [],
   "source": [
    "s = raw_eolienne.set_index('date_heure')"
   ]
  },
  {
   "cell_type": "code",
   "execution_count": 19,
   "metadata": {
    "collapsed": false
   },
   "outputs": [
    {
     "data": {
      "text/html": [
       "<div>\n",
       "<table border=\"1\" class=\"dataframe\">\n",
       "  <thead>\n",
       "    <tr style=\"text-align: right;\">\n",
       "      <th></th>\n",
       "      <th>id_eolienne</th>\n",
       "      <th>parc</th>\n",
       "      <th>vitesse vent (m/s)</th>\n",
       "      <th>direction vent</th>\n",
       "      <th>puissance active (kW)</th>\n",
       "      <th>angle nacelle</th>\n",
       "      <th>vitesse de rotation du rotor (rpm)</th>\n",
       "      <th>temperature exterieure (C)</th>\n",
       "      <th>temperature interieure (C)</th>\n",
       "      <th>region</th>\n",
       "    </tr>\n",
       "    <tr>\n",
       "      <th>date_heure</th>\n",
       "      <th></th>\n",
       "      <th></th>\n",
       "      <th></th>\n",
       "      <th></th>\n",
       "      <th></th>\n",
       "      <th></th>\n",
       "      <th></th>\n",
       "      <th></th>\n",
       "      <th></th>\n",
       "      <th></th>\n",
       "    </tr>\n",
       "  </thead>\n",
       "  <tbody>\n",
       "    <tr>\n",
       "      <th>2015-06-01 00:00:00</th>\n",
       "      <td>Parc1-E01</td>\n",
       "      <td>Parc1</td>\n",
       "      <td>9.08</td>\n",
       "      <td>188.66</td>\n",
       "      <td>1675.45</td>\n",
       "      <td>186.54</td>\n",
       "      <td>13.55</td>\n",
       "      <td>11.21</td>\n",
       "      <td>64.87</td>\n",
       "      <td>Est</td>\n",
       "    </tr>\n",
       "    <tr>\n",
       "      <th>2015-06-01 00:10:00</th>\n",
       "      <td>Parc1-E01</td>\n",
       "      <td>Parc1</td>\n",
       "      <td>8.61</td>\n",
       "      <td>186.47</td>\n",
       "      <td>1421.92</td>\n",
       "      <td>185.90</td>\n",
       "      <td>12.60</td>\n",
       "      <td>11.18</td>\n",
       "      <td>62.96</td>\n",
       "      <td>Est</td>\n",
       "    </tr>\n",
       "    <tr>\n",
       "      <th>2015-06-01 00:20:00</th>\n",
       "      <td>Parc1-E01</td>\n",
       "      <td>Parc1</td>\n",
       "      <td>8.38</td>\n",
       "      <td>184.37</td>\n",
       "      <td>1338.56</td>\n",
       "      <td>183.51</td>\n",
       "      <td>11.20</td>\n",
       "      <td>11.05</td>\n",
       "      <td>63.93</td>\n",
       "      <td>Est</td>\n",
       "    </tr>\n",
       "    <tr>\n",
       "      <th>2015-06-01 00:30:00</th>\n",
       "      <td>Parc1-E01</td>\n",
       "      <td>Parc1</td>\n",
       "      <td>10.27</td>\n",
       "      <td>235.62</td>\n",
       "      <td>2111.74</td>\n",
       "      <td>224.34</td>\n",
       "      <td>11.04</td>\n",
       "      <td>10.92</td>\n",
       "      <td>65.58</td>\n",
       "      <td>Est</td>\n",
       "    </tr>\n",
       "    <tr>\n",
       "      <th>2015-06-01 00:40:00</th>\n",
       "      <td>Parc1-E01</td>\n",
       "      <td>Parc1</td>\n",
       "      <td>9.13</td>\n",
       "      <td>263.42</td>\n",
       "      <td>1551.53</td>\n",
       "      <td>259.00</td>\n",
       "      <td>10.67</td>\n",
       "      <td>10.90</td>\n",
       "      <td>66.24</td>\n",
       "      <td>Est</td>\n",
       "    </tr>\n",
       "  </tbody>\n",
       "</table>\n",
       "</div>"
      ],
      "text/plain": [
       "                    id_eolienne   parc  vitesse vent (m/s)  direction vent  \\\n",
       "date_heure                                                                   \n",
       "2015-06-01 00:00:00   Parc1-E01  Parc1                9.08          188.66   \n",
       "2015-06-01 00:10:00   Parc1-E01  Parc1                8.61          186.47   \n",
       "2015-06-01 00:20:00   Parc1-E01  Parc1                8.38          184.37   \n",
       "2015-06-01 00:30:00   Parc1-E01  Parc1               10.27          235.62   \n",
       "2015-06-01 00:40:00   Parc1-E01  Parc1                9.13          263.42   \n",
       "\n",
       "                     puissance active (kW)  angle nacelle  \\\n",
       "date_heure                                                  \n",
       "2015-06-01 00:00:00                1675.45         186.54   \n",
       "2015-06-01 00:10:00                1421.92         185.90   \n",
       "2015-06-01 00:20:00                1338.56         183.51   \n",
       "2015-06-01 00:30:00                2111.74         224.34   \n",
       "2015-06-01 00:40:00                1551.53         259.00   \n",
       "\n",
       "                     vitesse de rotation du rotor (rpm)  \\\n",
       "date_heure                                                \n",
       "2015-06-01 00:00:00                               13.55   \n",
       "2015-06-01 00:10:00                               12.60   \n",
       "2015-06-01 00:20:00                               11.20   \n",
       "2015-06-01 00:30:00                               11.04   \n",
       "2015-06-01 00:40:00                               10.67   \n",
       "\n",
       "                     temperature exterieure (C)  temperature interieure (C)  \\\n",
       "date_heure                                                                    \n",
       "2015-06-01 00:00:00                       11.21                       64.87   \n",
       "2015-06-01 00:10:00                       11.18                       62.96   \n",
       "2015-06-01 00:20:00                       11.05                       63.93   \n",
       "2015-06-01 00:30:00                       10.92                       65.58   \n",
       "2015-06-01 00:40:00                       10.90                       66.24   \n",
       "\n",
       "                    region  \n",
       "date_heure                  \n",
       "2015-06-01 00:00:00    Est  \n",
       "2015-06-01 00:10:00    Est  \n",
       "2015-06-01 00:20:00    Est  \n",
       "2015-06-01 00:30:00    Est  \n",
       "2015-06-01 00:40:00    Est  "
      ]
     },
     "execution_count": 19,
     "metadata": {},
     "output_type": "execute_result"
    }
   ],
   "source": [
    "s.head()"
   ]
  },
  {
   "cell_type": "code",
   "execution_count": 22,
   "metadata": {
    "collapsed": true
   },
   "outputs": [],
   "source": [
    "### Aggregation jour"
   ]
  },
  {
   "cell_type": "code",
   "execution_count": null,
   "metadata": {
    "collapsed": true
   },
   "outputs": [],
   "source": []
  },
  {
   "cell_type": "code",
   "execution_count": null,
   "metadata": {
    "collapsed": true
   },
   "outputs": [],
   "source": [
    "pellegrin_kim 2:40 PM s = df.set_index('Date')\n",
    "s.index = pd.to_datetime(s.index)\n",
    "s.columns = ['Temperature-C']\n",
    "s['Temperature-C'] = s['Temperature-C'].astype(float)\n",
    "ts = pd.Series(s['Temperature-C'], index=s.index)"
   ]
  }
 ],
 "metadata": {
  "kernelspec": {
   "display_name": "Python 3",
   "language": "python",
   "name": "python3"
  },
  "language_info": {
   "codemirror_mode": {
    "name": "ipython",
    "version": 3
   },
   "file_extension": ".py",
   "mimetype": "text/x-python",
   "name": "python",
   "nbconvert_exporter": "python",
   "pygments_lexer": "ipython3",
   "version": "3.5.1+"
  }
 },
 "nbformat": 4,
 "nbformat_minor": 0
}
