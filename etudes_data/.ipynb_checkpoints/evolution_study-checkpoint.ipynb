{
 "cells": [
  {
   "cell_type": "code",
   "execution_count": 207,
   "metadata": {
    "collapsed": false
   },
   "outputs": [
    {
     "name": "stderr",
     "output_type": "stream",
     "text": [
      "/usr/local/lib/python3.5/dist-packages/matplotlib/font_manager.py:273: UserWarning: Matplotlib is building the font cache using fc-list. This may take a moment.\n",
      "  warnings.warn('Matplotlib is building the font cache using fc-list. This may take a moment.')\n",
      "/usr/local/lib/python3.5/dist-packages/matplotlib/font_manager.py:273: UserWarning: Matplotlib is building the font cache using fc-list. This may take a moment.\n",
      "  warnings.warn('Matplotlib is building the font cache using fc-list. This may take a moment.')\n",
      "/usr/local/lib/python3.5/dist-packages/matplotlib/backends/backend_gtk3agg.py:18: UserWarning: The Gtk3Agg backend is known to not work on Python 3.x with pycairo. Try installing cairocffi.\n",
      "  \"The Gtk3Agg backend is known to not work on Python 3.x with pycairo. \"\n"
     ]
    }
   ],
   "source": [
    "import pandas as pd\n",
    "import datetime\n",
    "import seaborn as sns\n",
    "%matplotlib inline"
   ]
  },
  {
   "cell_type": "code",
   "execution_count": 201,
   "metadata": {
    "collapsed": true
   },
   "outputs": [],
   "source": [
    "path_eolien = '/home/largo/Downloads/donnees_eoliennes.csv'\n",
    "path_solar = '/home/largo/Downloads/donnees_production_panneaux_solaires.csv'\n",
    "path_out = '/home/largo/Downloads/output.csv'"
   ]
  },
  {
   "cell_type": "code",
   "execution_count": 202,
   "metadata": {
    "collapsed": true
   },
   "outputs": [],
   "source": [
    "def prepareEolien(path):\n",
    "    raw_eolienne = pd.read_csv(path_eolien, error_bad_lines=False)\n",
    "    data_eolienne = raw_eolienne.ix[:,[0,5]]\n",
    "    data_eolienne['date_heure'] = pd.to_datetime(pd.Series(data_eolienne.ix[:,0]))\n",
    "    data_eolienne.columns = [\"date\", \"puissance\"]\n",
    "    ts = pd.Series(data_eolienne.puissance.values, data_eolienne.date)\n",
    "    tsagg = ts.groupby([ts.index.month, ts.index.day]).mean()\n",
    "    return tsagg\n",
    "\n",
    "def prepareSolar(path):\n",
    "    raw_solar = pd.read_csv(path_solar)\n",
    "    data_solar = raw_solar.ix[:,1:].sum(axis=1).values\n",
    "    ts = pd.Series(raw_solar.ix[:,1:].sum(axis=1).values, pd.to_datetime(raw_solar.ix[:,0]).values)\n",
    "    tsagg = ts.groupby([ts.index.month, ts.index.day]).mean()\n",
    "    return tsagg\n",
    "\n",
    "def prepareDatas(path_eolien, path_solar):\n",
    "    tsagg_eol = prepareEolien(path_eolien)\n",
    "    tsagg_sol = prepareSolar(path_solar)\n",
    "    ts_total = tsagg_eol.add(tsagg_sol, fill_value=0)\n",
    "    ts_total.to_csv(path_out)\n",
    "    return ts_total"
   ]
  },
  {
   "cell_type": "code",
   "execution_count": 214,
   "metadata": {
    "collapsed": false
   },
   "outputs": [
    {
     "name": "stderr",
     "output_type": "stream",
     "text": [
      "/usr/local/lib/python3.5/dist-packages/ipykernel/__main__.py:4: SettingWithCopyWarning: \n",
      "A value is trying to be set on a copy of a slice from a DataFrame.\n",
      "Try using .loc[row_indexer,col_indexer] = value instead\n",
      "\n",
      "See the caveats in the documentation: http://pandas.pydata.org/pandas-docs/stable/indexing.html#indexing-view-versus-copy\n"
     ]
    }
   ],
   "source": [
    "ts_total = prepareDatas(path_eolien, path_solar)"
   ]
  },
  {
   "cell_type": "code",
   "execution_count": 209,
   "metadata": {
    "collapsed": false
   },
   "outputs": [
    {
     "data": {
      "image/png": "[encoded data removed]",
      "text/plain": [
       "<matplotlib.figure.Figure at 0x7f5030fe3be0>"
      ]
     },
     "metadata": {},
     "output_type": "display_data"
    }
   ],
   "source": [
    "sns.set(rc={\"figure.figsize\": (8, 4)})\n",
    "ax = sns.distplot(ts_total.ix[:,3])"
   ]
  },
  {
   "cell_type": "code",
   "execution_count": 217,
   "metadata": {
    "collapsed": false
   },
   "outputs": [],
   "source": []
  },
  {
   "cell_type": "code",
   "execution_count": 218,
   "metadata": {
    "collapsed": false
   },
   "outputs": [
    {
     "data": {
      "text/plain": [
       "1  1    3\n",
       "   2    5\n",
       "   3    5\n",
       "   4    4\n",
       "   5    4\n",
       "dtype: int64"
      ]
     },
     "execution_count": 218,
     "metadata": {},
     "output_type": "execute_result"
    }
   ],
   "source": [
    "ts_groupe.head()"
   ]
  }
 ],
 "metadata": {
  "kernelspec": {
   "display_name": "Python 3",
   "language": "python",
   "name": "python3"
  },
  "language_info": {
   "codemirror_mode": {
    "name": "ipython",
    "version": 3
   },
   "file_extension": ".py",
   "mimetype": "text/x-python",
   "name": "python",
   "nbconvert_exporter": "python",
   "pygments_lexer": "ipython3",
   "version": "3.5.1+"
  }
 },
 "nbformat": 4,
 "nbformat_minor": 0
}
