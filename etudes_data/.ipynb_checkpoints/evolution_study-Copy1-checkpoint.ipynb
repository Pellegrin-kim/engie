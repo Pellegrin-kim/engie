{
 "cells": [
  {
   "cell_type": "code",
   "execution_count": 75,
   "metadata": {
    "collapsed": true
   },
   "outputs": [],
   "source": [
    "import pandas as pd\n",
    "import datetime"
   ]
  },
  {
   "cell_type": "code",
   "execution_count": 196,
   "metadata": {
    "collapsed": true
   },
   "outputs": [],
   "source": [
    "path_eolien = '/home/largo/Downloads/donnees_eoliennes.csv'\n",
    "path_solar = '/home/largo/Downloads/donnees_production_panneaux_solaires.csv'\n",
    "path_out = '/home/largo/Downloads/output.csv'"
   ]
  },
  {
   "cell_type": "code",
   "execution_count": 199,
   "metadata": {
    "collapsed": true
   },
   "outputs": [],
   "source": [
    "def prepareEolien(path):\n",
    "    raw_eolienne = pd.read_csv(path_eolien, error_bad_lines=False)\n",
    "    data_eolienne = raw_eolienne.ix[:,[0,5]]\n",
    "    data_eolienne['date_heure'] = pd.to_datetime(pd.Series(data_eolienne.ix[:,0]))\n",
    "    data_eolienne.columns = [\"date\", \"puissance\"]\n",
    "    ts = pd.Series(data_eolienne.puissance.values, data_eolienne.date)\n",
    "    tsagg = ts.groupby([ts.index.month, ts.index.day]).mean()\n",
    "    return tsagg\n",
    "\n",
    "def prepareSolar(path):\n",
    "    raw_solar = pd.read_csv(path_solar)\n",
    "    data_solar = raw_solar.ix[:,1:].sum(axis=1).values\n",
    "    ts = pd.Series(raw_solar.ix[:,1:].sum(axis=1).values, pd.to_datetime(raw_solar.ix[:,0]).values)\n",
    "    tsagg = ts.groupby([ts.index.month, ts.index.day]).mean()\n",
    "    return tsagg\n",
    "\n",
    "def prepareDatas(path_eolien, path_solar):\n",
    "    tsagg_eol = prepareEolien(path_eolien)\n",
    "    tsagg_sol = prepareSolar(path_solar)\n",
    "    ts_total = tsagg_eol.add(tsagg_sol, fill_value=0)\n",
    "    ts_total.to_csv(path_out)\n",
    "    return ts_total"
   ]
  },
  {
   "cell_type": "code",
   "execution_count": 193,
   "metadata": {
    "collapsed": false
   },
   "outputs": [
    {
     "name": "stderr",
     "output_type": "stream",
     "text": [
      "/usr/local/lib/python3.5/dist-packages/ipykernel/__main__.py:4: SettingWithCopyWarning: \n",
      "A value is trying to be set on a copy of a slice from a DataFrame.\n",
      "Try using .loc[row_indexer,col_indexer] = value instead\n",
      "\n",
      "See the caveats in the documentation: http://pandas.pydata.org/pandas-docs/stable/indexing.html#indexing-view-versus-copy\n"
     ]
    }
   ],
   "source": [
    "ts_total = prepareDatas(path_eolien, path_solar)"
   ]
  }
 ],
 "metadata": {
  "kernelspec": {
   "display_name": "Python 3",
   "language": "python",
   "name": "python3"
  },
  "language_info": {
   "codemirror_mode": {
    "name": "ipython",
    "version": 3
   },
   "file_extension": ".py",
   "mimetype": "text/x-python",
   "name": "python",
   "nbconvert_exporter": "python",
   "pygments_lexer": "ipython3",
   "version": "3.5.1+"
  }
 },
 "nbformat": 4,
 "nbformat_minor": 0
}
